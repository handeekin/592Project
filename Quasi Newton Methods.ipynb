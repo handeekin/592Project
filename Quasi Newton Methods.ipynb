{
 "cells": [
  {
   "cell_type": "code",
   "execution_count": null,
   "metadata": {},
   "outputs": [],
   "source": [
    "def bfgs_newton(f, x, iters):\n",
    "    \"\"\"\n",
    "    Realize BFGS quasi-Newton method\n",
    "         :param f: original function\n",
    "         :param x: initial value\n",
    "         :param iters: the largest epoch to traverse\n",
    "         :return: the final updated x value\n",
    "    \"\"\"\n",
    "         # Step length. Set to 1 to converge, less than 1 to not converge\n",
    "    learning_rate = 1\n",
    "         # Initialize B positive definite matrix\n",
    "    B = np.eye(2)\n",
    "    x_len = x.shape[0]\n",
    "         # The minimum value of the second normal form of the first derivative g (threshold)\n",
    "    epsilon = 1e-5\n",
    "    for i in range(1, iters):\n",
    "        g = jacobian(f, x)\n",
    "        if np.linalg.norm(g) < epsilon:\n",
    "            break\n",
    "        p = np.linalg.solve(B, g)\n",
    "                 # Update x value\n",
    "        x_new = x - p*learning_rate\n",
    "                 print(\" \" + str(i) + \"The result after the second iteration is:\", x_new)\n",
    "        g_new = jacobian(f, x_new)\n",
    "        y = g_new - g\n",
    "        k = x_new - x\n",
    "        y_t = y.reshape([x_len, 1])\n",
    "        Bk = np.dot(B, k)\n",
    "        k_t_B = np.dot(k, B)\n",
    "        kBk = np.dot(np.dot(k, B), k)\n",
    "                 # Update B positive definite matrix. Calculate exactly according to the formula\n",
    "        B = B + y_t*y/np.dot(y, k) - Bk.reshape([x_len, 1]) * k_t_B / kBk\n",
    "        x = x_new\n",
    "        return x"
   ]
  },
  {
   "cell_type": "code",
   "execution_count": null,
   "metadata": {},
   "outputs": [],
   "source": [
    "def dfp_newton(f, x, iters):\n",
    "    \"\"\"\n",
    "         Implement DFP quasi-Newton algorithm\n",
    "         :param f: original function\n",
    "         :param x: initial value\n",
    "         :param iters: the largest epoch to traverse\n",
    "         :return: the final updated x value\n",
    "    \"\"\"\n",
    "         # Step length\n",
    "    learning_rate = 1\n",
    "         # Initialize B positive definite matrix\n",
    "    G = np.eye(2)\n",
    "    x_len = x.shape[0]\n",
    "         # The minimum value of the second normal form of the first derivative g (threshold)\n",
    "    epsilon = 1e-5\n",
    "    for i in range(1, iters):\n",
    "        g = jacobian(f, x)\n",
    "        if np.linalg.norm(g) < epsilon:\n",
    "            break\n",
    "        p = np.dot(G, g)\n",
    "                 # Update x value\n",
    "        x_new = x - p * learning_rate\n",
    "                 print(\" \" + str(i) + \"The result after the second iteration is:\", x_new)\n",
    "        g_new = jacobian(f, x_new)\n",
    "        y = g_new - g\n",
    "        k = x_new - x\n",
    "        Gy = np.dot(G, y)\n",
    "        y_t_G = np.dot(y, G)\n",
    "        yGy = np.dot(np.dot(y, G), y)\n",
    "                 # Update G positive definite matrix\n",
    "        G = G + k.reshape([x_len, 1]) * k / np.dot(k, y) - Gy.reshape([x_len, 1]) * y_t_G / yGy\n",
    "        x = x_new\n",
    "        return x"
   ]
  }
 ],
 "metadata": {
  "kernelspec": {
   "display_name": "Python 3",
   "language": "python",
   "name": "python3"
  },
  "language_info": {
   "codemirror_mode": {
    "name": "ipython",
    "version": 3
   },
   "file_extension": ".py",
   "mimetype": "text/x-python",
   "name": "python",
   "nbconvert_exporter": "python",
   "pygments_lexer": "ipython3",
   "version": "3.8.3"
  }
 },
 "nbformat": 4,
 "nbformat_minor": 4
}
